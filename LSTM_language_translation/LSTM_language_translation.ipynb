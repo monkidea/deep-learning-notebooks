{
 "cells": [
  {
   "cell_type": "markdown",
   "metadata": {
    "collapsed": true
   },
   "source": [
    "# Language Translation\n",
    "In this project, you’re going to take a peek into the realm of neural network machine translation.  You’ll be training a sequence to sequence model on a dataset of English and French sentences that can translate new sentences from English to French.\n",
    "## Get the Data\n",
    "Since translating the whole language of English to French will take lots of time to train, we have provided you with a small portion of the English corpus."
   ]
  },
  {
   "cell_type": "code",
   "execution_count": 2,
   "metadata": {
    "collapsed": true
   },
   "outputs": [],
   "source": [
    "\"\"\"\n",
    "DON'T MODIFY ANYTHING IN THIS CELL\n",
    "\"\"\"\n",
    "import helper\n",
    "import problem_unittests as tests\n",
    "\n",
    "source_path = 'data/small_vocab_en'\n",
    "target_path = 'data/small_vocab_fr'\n",
    "source_text = helper.load_data(source_path)\n",
    "target_text = helper.load_data(target_path)"
   ]
  },
  {
   "cell_type": "markdown",
   "metadata": {},
   "source": [
    "## Explore the Data\n",
    "Play around with view_sentence_range to view different parts of the data."
   ]
  },
  {
   "cell_type": "code",
   "execution_count": 3,
   "metadata": {},
   "outputs": [
    {
     "name": "stdout",
     "output_type": "stream",
     "text": [
      "Dataset Stats\n",
      "Roughly the number of unique words: 227\n",
      "Number of sentences: 137861\n",
      "Average number of words in a sentence: 13.225277634719028\n",
      "\n",
      "English sentences 0 to 10:\n",
      "new jersey is sometimes quiet during autumn , and it is snowy in april .\n",
      "the united states is usually chilly during july , and it is usually freezing in november .\n",
      "california is usually quiet during march , and it is usually hot in june .\n",
      "the united states is sometimes mild during june , and it is cold in september .\n",
      "your least liked fruit is the grape , but my least liked is the apple .\n",
      "his favorite fruit is the orange , but my favorite is the grape .\n",
      "paris is relaxing during december , but it is usually chilly in july .\n",
      "new jersey is busy during spring , and it is never hot in march .\n",
      "our least liked fruit is the lemon , but my least liked is the grape .\n",
      "the united states is sometimes busy during january , and it is sometimes warm in november .\n",
      "\n",
      "French sentences 0 to 10:\n",
      "new jersey est parfois calme pendant l' automne , et il est neigeux en avril .\n",
      "les états-unis est généralement froid en juillet , et il gèle habituellement en novembre .\n",
      "california est généralement calme en mars , et il est généralement chaud en juin .\n",
      "les états-unis est parfois légère en juin , et il fait froid en septembre .\n",
      "votre moins aimé fruit est le raisin , mais mon moins aimé est la pomme .\n",
      "son fruit préféré est l'orange , mais mon préféré est le raisin .\n",
      "paris est relaxant en décembre , mais il est généralement froid en juillet .\n",
      "new jersey est occupé au printemps , et il est jamais chaude en mars .\n",
      "notre fruit est moins aimé le citron , mais mon moins aimé est le raisin .\n",
      "les états-unis est parfois occupé en janvier , et il est parfois chaud en novembre .\n"
     ]
    }
   ],
   "source": [
    "view_sentence_range = (0, 10)\n",
    "\n",
    "\"\"\"\n",
    "DON'T MODIFY ANYTHING IN THIS CELL\n",
    "\"\"\"\n",
    "import numpy as np\n",
    "\n",
    "print('Dataset Stats')\n",
    "print('Roughly the number of unique words: {}'.format(len({word: None for word in source_text.split()})))\n",
    "\n",
    "sentences = source_text.split('\\n')\n",
    "word_counts = [len(sentence.split()) for sentence in sentences]\n",
    "print('Number of sentences: {}'.format(len(sentences)))\n",
    "print('Average number of words in a sentence: {}'.format(np.average(word_counts)))\n",
    "\n",
    "print()\n",
    "print('English sentences {} to {}:'.format(*view_sentence_range))\n",
    "print('\\n'.join(source_text.split('\\n')[view_sentence_range[0]:view_sentence_range[1]]))\n",
    "print()\n",
    "print('French sentences {} to {}:'.format(*view_sentence_range))\n",
    "print('\\n'.join(target_text.split('\\n')[view_sentence_range[0]:view_sentence_range[1]]))"
   ]
  },
  {
   "cell_type": "markdown",
   "metadata": {},
   "source": [
    "## Implement Preprocessing Function\n",
    "### Text to Word Ids\n",
    "As you did with other RNNs, you must turn the text into a number so the computer can understand it. In the function `text_to_ids()`, you'll turn `source_text` and `target_text` from words to ids.  However, you need to add the `<EOS>` word id at the end of `target_text`.  This will help the neural network predict when the sentence should end.\n",
    "\n",
    "You can get the `<EOS>` word id by doing:\n",
    "```python\n",
    "target_vocab_to_int['<EOS>']\n",
    "```\n",
    "You can get other word ids using `source_vocab_to_int` and `target_vocab_to_int`."
   ]
  },
  {
   "cell_type": "code",
   "execution_count": 4,
   "metadata": {},
   "outputs": [
    {
     "name": "stdout",
     "output_type": "stream",
     "text": [
      "Tests Passed\n"
     ]
    }
   ],
   "source": [
    "def text_to_ids(source_text, target_text, source_vocab_to_int, target_vocab_to_int):\n",
    "    \"\"\"\n",
    "    Convert source and target text to proper word ids\n",
    "    :param source_text: String that contains all the source text.\n",
    "    :param target_text: String that contains all the target text.\n",
    "    :param source_vocab_to_int: Dictionary to go from the source words to an id\n",
    "    :param target_vocab_to_int: Dictionary to go from the target words to an id\n",
    "    :return: A tuple of lists (source_id_text, target_id_text)\n",
    "    \"\"\"\n",
    "    source_sentences = source_text.split('\\n')\n",
    "    target_sentences = [sentence + ' <EOS>' for sentence in target_text.split('\\n')]\n",
    "\n",
    "    source_ids = [[source_vocab_to_int[word] for word in line.split()] for line in source_sentences]\n",
    "    target_ids = [[target_vocab_to_int[word] for word in line.split()] for line in target_sentences]\n",
    "    \n",
    "    return (source_ids, target_ids)\n",
    "\n",
    "\"\"\"\n",
    "DON'T MODIFY ANYTHING IN THIS CELL THAT IS BELOW THIS LINE\n",
    "\"\"\"\n",
    "tests.test_text_to_ids(text_to_ids)"
   ]
  },
  {
   "cell_type": "markdown",
   "metadata": {},
   "source": [
    "### Preprocess all the data and save it\n",
    "Running the code cell below will preprocess all the data and save it to file."
   ]
  },
  {
   "cell_type": "code",
   "execution_count": 5,
   "metadata": {
    "collapsed": true
   },
   "outputs": [],
   "source": [
    "\"\"\"\n",
    "DON'T MODIFY ANYTHING IN THIS CELL\n",
    "\"\"\"\n",
    "helper.preprocess_and_save_data(source_path, target_path, text_to_ids)"
   ]
  },
  {
   "cell_type": "markdown",
   "metadata": {},
   "source": [
    "# Check Point\n",
    "This is your first checkpoint. If you ever decide to come back to this notebook or have to restart the notebook, you can start from here. The preprocessed data has been saved to disk."
   ]
  },
  {
   "cell_type": "code",
   "execution_count": 6,
   "metadata": {
    "collapsed": true
   },
   "outputs": [],
   "source": [
    "\"\"\"\n",
    "DON'T MODIFY ANYTHING IN THIS CELL\n",
    "\"\"\"\n",
    "import numpy as np\n",
    "import helper\n",
    "\n",
    "(source_int_text, target_int_text), (source_vocab_to_int, target_vocab_to_int), _ = helper.load_preprocess()"
   ]
  },
  {
   "cell_type": "markdown",
   "metadata": {},
   "source": [
    "### Check the Version of TensorFlow and Access to GPU\n",
    "This will check to make sure you have the correct version of TensorFlow and access to a GPU"
   ]
  },
  {
   "cell_type": "code",
   "execution_count": 7,
   "metadata": {},
   "outputs": [
    {
     "name": "stdout",
     "output_type": "stream",
     "text": [
      "TensorFlow Version: 1.1.0\n",
      "Default GPU Device: /gpu:0\n"
     ]
    }
   ],
   "source": [
    "\"\"\"\n",
    "DON'T MODIFY ANYTHING IN THIS CELL\n",
    "\"\"\"\n",
    "from distutils.version import LooseVersion\n",
    "import warnings\n",
    "import tensorflow as tf\n",
    "from tensorflow.python.layers.core import Dense\n",
    "\n",
    "# Check TensorFlow Version\n",
    "assert LooseVersion(tf.__version__) >= LooseVersion('1.1'), 'Please use TensorFlow version 1.1 or newer'\n",
    "print('TensorFlow Version: {}'.format(tf.__version__))\n",
    "\n",
    "# Check for a GPU\n",
    "if not tf.test.gpu_device_name():\n",
    "    warnings.warn('No GPU found. Please use a GPU to train your neural network.')\n",
    "else:\n",
    "    print('Default GPU Device: {}'.format(tf.test.gpu_device_name()))"
   ]
  },
  {
   "cell_type": "markdown",
   "metadata": {},
   "source": [
    "## Build the Neural Network\n",
    "You'll build the components necessary to build a Sequence-to-Sequence model by implementing the following functions below:\n",
    "- `model_inputs`\n",
    "- `process_decoder_input`\n",
    "- `encoding_layer`\n",
    "- `decoding_layer_train`\n",
    "- `decoding_layer_infer`\n",
    "- `decoding_layer`\n",
    "- `seq2seq_model`\n",
    "\n",
    "### Input\n",
    "Implement the `model_inputs()` function to create TF Placeholders for the Neural Network. It should create the following placeholders:\n",
    "\n",
    "- Input text placeholder named \"input\" using the TF Placeholder name parameter with rank 2.\n",
    "- Targets placeholder with rank 2.\n",
    "- Learning rate placeholder with rank 0.\n",
    "- Keep probability placeholder named \"keep_prob\" using the TF Placeholder name parameter with rank 0.\n",
    "- Target sequence length placeholder named \"target_sequence_length\" with rank 1\n",
    "- Max target sequence length tensor named \"max_target_len\" getting its value from applying tf.reduce_max on the target_sequence_length placeholder. Rank 0.\n",
    "- Source sequence length placeholder named \"source_sequence_length\" with rank 1\n",
    "\n",
    "Return the placeholders in the following the tuple (input, targets, learning rate, keep probability, target sequence length, max target sequence length, source sequence length)"
   ]
  },
  {
   "cell_type": "code",
   "execution_count": 9,
   "metadata": {},
   "outputs": [
    {
     "name": "stdout",
     "output_type": "stream",
     "text": [
      "Tests Passed\n"
     ]
    }
   ],
   "source": [
    "def model_inputs():\n",
    "    \"\"\"\n",
    "    Create TF Placeholders for input, targets, learning rate, and lengths of source and target sequences.\n",
    "    :return: Tuple (input, targets, learning rate, keep probability, target sequence length,\n",
    "    max target sequence length, source sequence length)\n",
    "    \"\"\"\n",
    "    input = tf.placeholder(dtype=tf.int32, shape=(None, None), name=\"input\")\n",
    "    targets = tf.placeholder(dtype=tf.int32, shape=(None, None), name=\"targets\")\n",
    "    learning_rate = tf.placeholder(dtype=tf.float32, shape=(None), name=\"learnrate\")\n",
    "    keep_probability = tf.placeholder(dtype=tf.float32, shape=(None), name=\"keep_prob\")\n",
    "    target_sequence_length = tf.placeholder(dtype=tf.int32, shape=(None, ), name=\"target_sequence_length\")\n",
    "    max_target_sequence_length = tf.reduce_max(target_sequence_length, name=\"max_target_len\")\n",
    "    source_sequence_length = tf.placeholder(dtype=tf.int32, shape=(None, ), name=\"source_sequence_length\")\n",
    "    \n",
    "    return input, targets, learning_rate, keep_probability, target_sequence_length, max_target_sequence_length, source_sequence_length\n",
    "\n",
    "\n",
    "\"\"\"\n",
    "DON'T MODIFY ANYTHING IN THIS CELL THAT IS BELOW THIS LINE\n",
    "\"\"\"\n",
    "tests.test_model_inputs(model_inputs)"
   ]
  },
  {
   "cell_type": "markdown",
   "metadata": {},
   "source": [
    "### Process Decoder Input\n",
    "Implement `process_decoder_input` by removing the last word id from each batch in `target_data` and concat the GO ID to the begining of each batch."
   ]
  },
  {
   "cell_type": "code",
   "execution_count": 11,
   "metadata": {},
   "outputs": [
    {
     "name": "stdout",
     "output_type": "stream",
     "text": [
      "Tests Passed\n"
     ]
    }
   ],
   "source": [
    "def process_decoder_input(target_data, target_vocab_to_int, batch_size):\n",
    "    \"\"\"\n",
    "    Preprocess target data for encoding\n",
    "    :param target_data: Target Placehoder\n",
    "    :param target_vocab_to_int: Dictionary to go from the target words to an id\n",
    "    :param batch_size: Batch Size\n",
    "    :return: Preprocessed target data\n",
    "    \"\"\"\n",
    "    # TODO: Implement Function\n",
    "    x = tf.strided_slice(target_data, [0,0], [batch_size, -1], [1,1])\n",
    "    y = tf.concat([tf.fill([batch_size, 1], target_vocab_to_int['<GO>']), x], 1)\n",
    "    return y\n",
    "\n",
    "\"\"\"\n",
    "DON'T MODIFY ANYTHING IN THIS CELL THAT IS BELOW THIS LINE\n",
    "\"\"\"\n",
    "tests.test_process_encoding_input(process_decoder_input)"
   ]
  },
  {
   "cell_type": "markdown",
   "metadata": {},
   "source": [
    "### Encoding\n",
    "Implement `encoding_layer()` to create a Encoder RNN layer:\n",
    " * Embed the encoder input using [`tf.contrib.layers.embed_sequence`](https://www.tensorflow.org/api_docs/python/tf/contrib/layers/embed_sequence)\n",
    " * Construct a [stacked](https://github.com/tensorflow/tensorflow/blob/6947f65a374ebf29e74bb71e36fd82760056d82c/tensorflow/docs_src/tutorials/recurrent.md#stacking-multiple-lstms) [`tf.contrib.rnn.LSTMCell`](https://www.tensorflow.org/api_docs/python/tf/contrib/rnn/LSTMCell) wrapped in a [`tf.contrib.rnn.DropoutWrapper`](https://www.tensorflow.org/api_docs/python/tf/contrib/rnn/DropoutWrapper)\n",
    " * Pass cell and embedded input to [`tf.nn.dynamic_rnn()`](https://www.tensorflow.org/api_docs/python/tf/nn/dynamic_rnn)"
   ]
  },
  {
   "cell_type": "code",
   "execution_count": 13,
   "metadata": {
    "scrolled": false
   },
   "outputs": [
    {
     "name": "stdout",
     "output_type": "stream",
     "text": [
      "Tests Passed\n"
     ]
    }
   ],
   "source": [
    "from imp import reload\n",
    "reload(tests)\n",
    "\n",
    "def encoding_layer(rnn_inputs, rnn_size, num_layers, keep_prob, \n",
    "                   source_sequence_length, source_vocab_size, \n",
    "                   encoding_embedding_size):\n",
    "    \"\"\"\n",
    "    Create encoding layer\n",
    "    :param rnn_inputs: Inputs for the RNN\n",
    "    :param rnn_size: RNN Size\n",
    "    :param num_layers: Number of layers\n",
    "    :param keep_prob: Dropout keep probability\n",
    "    :param source_sequence_length: a list of the lengths of each sequence in the batch\n",
    "    :param source_vocab_size: vocabulary size of source data\n",
    "    :param encoding_embedding_size: embedding size of source data\n",
    "    :return: tuple (RNN output, RNN state)\n",
    "    \"\"\"\n",
    "    embedded = tf.contrib.layers.embed_sequence(ids=rnn_inputs, vocab_size=source_vocab_size, embed_dim=encoding_embedding_size)\n",
    "    gen_cell = lambda: tf.contrib.rnn.LSTMCell(num_units=rnn_size, initializer=tf.random_uniform_initializer(-0.1, 0.1, seed=2))\n",
    "    cells = tf.contrib.rnn.MultiRNNCell(cells=[gen_cell() for _ in range(num_layers)])\n",
    "    drop = tf.contrib.rnn.DropoutWrapper(cell=cells, output_keep_prob=keep_prob)\n",
    "    output, state = tf.nn.dynamic_rnn(cell=drop, inputs=embedded, dtype=tf.float32)\n",
    "    return output, state\n",
    "\n",
    "\"\"\"\n",
    "DON'T MODIFY ANYTHING IN THIS CELL THAT IS BELOW THIS LINE\n",
    "\"\"\"\n",
    "tests.test_encoding_layer(encoding_layer)"
   ]
  },
  {
   "cell_type": "markdown",
   "metadata": {},
   "source": [
    "### Decoding - Training\n",
    "Create a training decoding layer:\n",
    "* Create a [`tf.contrib.seq2seq.TrainingHelper`](https://www.tensorflow.org/api_docs/python/tf/contrib/seq2seq/TrainingHelper) \n",
    "* Create a [`tf.contrib.seq2seq.BasicDecoder`](https://www.tensorflow.org/api_docs/python/tf/contrib/seq2seq/BasicDecoder)\n",
    "* Obtain the decoder outputs from [`tf.contrib.seq2seq.dynamic_decode`](https://www.tensorflow.org/api_docs/python/tf/contrib/seq2seq/dynamic_decode)"
   ]
  },
  {
   "cell_type": "code",
   "execution_count": 15,
   "metadata": {},
   "outputs": [
    {
     "name": "stdout",
     "output_type": "stream",
     "text": [
      "Tests Passed\n"
     ]
    }
   ],
   "source": [
    "\n",
    "def decoding_layer_train(encoder_state, dec_cell, dec_embed_input, \n",
    "                         target_sequence_length, max_summary_length, \n",
    "                         output_layer, keep_prob):\n",
    "    \"\"\"\n",
    "    Create a decoding layer for training\n",
    "    :param encoder_state: Encoder State\n",
    "    :param dec_cell: Decoder RNN Cell\n",
    "    :param dec_embed_input: Decoder embedded input\n",
    "    :param target_sequence_length: The lengths of each sequence in the target batch\n",
    "    :param max_summary_length: The length of the longest sequence in the batch\n",
    "    :param output_layer: Function to apply the output layer\n",
    "    :param keep_prob: Dropout keep probability\n",
    "    :return: BasicDecoderOutput containing training logits and sample_id\n",
    "    \"\"\"\n",
    "    # TF v1.1 !!!\n",
    "    training_helper = tf.contrib.seq2seq.TrainingHelper(inputs=dec_embed_input, sequence_length=target_sequence_length, time_major=False)\n",
    "    \n",
    "    decoder = tf.contrib.seq2seq.BasicDecoder(cell=dec_cell, helper=training_helper, initial_state=encoder_state, output_layer=output_layer)\n",
    "    training_decoder_output, _ = tf.contrib.seq2seq.dynamic_decode(decoder, impute_finished=True, maximum_iterations=max_summary_length)\n",
    "    return training_decoder_output\n",
    "\n",
    "\n",
    "\n",
    "\"\"\"\n",
    "DON'T MODIFY ANYTHING IN THIS CELL THAT IS BELOW THIS LINE\n",
    "\"\"\"\n",
    "tests.test_decoding_layer_train(decoding_layer_train)"
   ]
  },
  {
   "cell_type": "markdown",
   "metadata": {},
   "source": [
    "### Decoding - Inference\n",
    "Create inference decoder:\n",
    "* Create a [`tf.contrib.seq2seq.GreedyEmbeddingHelper`](https://www.tensorflow.org/api_docs/python/tf/contrib/seq2seq/GreedyEmbeddingHelper)\n",
    "* Create a [`tf.contrib.seq2seq.BasicDecoder`](https://www.tensorflow.org/api_docs/python/tf/contrib/seq2seq/BasicDecoder)\n",
    "* Obtain the decoder outputs from [`tf.contrib.seq2seq.dynamic_decode`](https://www.tensorflow.org/api_docs/python/tf/contrib/seq2seq/dynamic_decode)"
   ]
  },
  {
   "cell_type": "code",
   "execution_count": 16,
   "metadata": {
    "scrolled": true
   },
   "outputs": [
    {
     "name": "stdout",
     "output_type": "stream",
     "text": [
      "Tests Passed\n"
     ]
    }
   ],
   "source": [
    "def decoding_layer_infer(encoder_state, dec_cell, dec_embeddings, start_of_sequence_id,\n",
    "                         end_of_sequence_id, max_target_sequence_length,\n",
    "                         vocab_size, output_layer, batch_size, keep_prob):\n",
    "    \"\"\"\n",
    "    Create a decoding layer for inference\n",
    "    :param encoder_state: Encoder state\n",
    "    :param dec_cell: Decoder RNN Cell\n",
    "    :param dec_embeddings: Decoder embeddings\n",
    "    :param start_of_sequence_id: GO ID\n",
    "    :param end_of_sequence_id: EOS Id\n",
    "    :param max_target_sequence_length: Maximum length of target sequences\n",
    "    :param vocab_size: Size of decoder/target vocabulary\n",
    "    :param decoding_scope: TenorFlow Variable Scope for decoding\n",
    "    :param output_layer: Function to apply the output layer\n",
    "    :param batch_size: Batch size\n",
    "    :param keep_prob: Dropout keep probability\n",
    "    :return: BasicDecoderOutput containing inference logits and sample_id\n",
    "    \"\"\"\n",
    "    start_tokens = tf.tile(tf.constant([start_of_sequence_id], dtype=tf.int32), [batch_size], name='start_tokens')\n",
    "    greedy_embedding_helper = tf.contrib.seq2seq.GreedyEmbeddingHelper(dec_embeddings,start_tokens, end_of_sequence_id)\n",
    "    basic_decoder = tf.contrib.seq2seq.BasicDecoder(dec_cell,greedy_embedding_helper, encoder_state, output_layer)\n",
    "    basic_decoder_output, _ = tf.contrib.seq2seq.dynamic_decode(basic_decoder,impute_finished=True,maximum_iterations=max_target_sequence_length)\n",
    "    return basic_decoder_output\n",
    "\n",
    "\n",
    "\n",
    "\"\"\"\n",
    "DON'T MODIFY ANYTHING IN THIS CELL THAT IS BELOW THIS LINE\n",
    "\"\"\"\n",
    "tests.test_decoding_layer_infer(decoding_layer_infer)"
   ]
  },
  {
   "cell_type": "markdown",
   "metadata": {},
   "source": [
    "### Build the Decoding Layer\n",
    "Implement `decoding_layer()` to create a Decoder RNN layer.\n",
    "\n",
    "* Embed the target sequences\n",
    "* Construct the decoder LSTM cell (just like you constructed the encoder cell above)\n",
    "* Create an output layer to map the outputs of the decoder to the elements of our vocabulary\n",
    "* Use the your `decoding_layer_train(encoder_state, dec_cell, dec_embed_input, target_sequence_length, max_target_sequence_length, output_layer, keep_prob)` function to get the training logits.\n",
    "* Use your `decoding_layer_infer(encoder_state, dec_cell, dec_embeddings, start_of_sequence_id, end_of_sequence_id, max_target_sequence_length, vocab_size, output_layer, batch_size, keep_prob)` function to get the inference logits.\n",
    "\n",
    "Note: You'll need to use [tf.variable_scope](https://www.tensorflow.org/api_docs/python/tf/variable_scope) to share variables between training and inference."
   ]
  },
  {
   "cell_type": "code",
   "execution_count": 18,
   "metadata": {},
   "outputs": [
    {
     "name": "stdout",
     "output_type": "stream",
     "text": [
      "Tests Passed\n"
     ]
    }
   ],
   "source": [
    "def decoding_layer(dec_input, encoder_state,\n",
    "                   target_sequence_length, max_target_sequence_length,\n",
    "                   rnn_size,\n",
    "                   num_layers, target_vocab_to_int, target_vocab_size,\n",
    "                   batch_size, keep_prob, decoding_embedding_size):\n",
    "    \"\"\"\n",
    "    Create decoding layer\n",
    "    :param dec_input: Decoder input\n",
    "    :param encoder_state: Encoder state\n",
    "    :param target_sequence_length: The lengths of each sequence in the target batch\n",
    "    :param max_target_sequence_length: Maximum length of target sequences\n",
    "    :param rnn_size: RNN Size\n",
    "    :param num_layers: Number of layers\n",
    "    :param target_vocab_to_int: Dictionary to go from the target words to an id\n",
    "    :param target_vocab_size: Size of target vocabulary\n",
    "    :param batch_size: The size of the batch\n",
    "    :param keep_prob: Dropout keep probability\n",
    "    :param decoding_embedding_size: Decoding embedding size\n",
    "    :return: Tuple of (Training BasicDecoderOutput, Inference BasicDecoderOutput)\n",
    "    \"\"\"\n",
    "    dec_embeddings = tf.Variable(tf.random_uniform([target_vocab_size, decoding_embedding_size]))\n",
    "    dec_embed_input = tf.nn.embedding_lookup(dec_embeddings, dec_input)\n",
    "    decoded_lstm = tf.contrib.rnn.MultiRNNCell([tf.contrib.rnn.LSTMCell(rnn_size, initializer=tf.random_uniform_initializer(-0.1, 0.1, seed=2)) for _ in range(num_layers)])\n",
    "    output_layer = Dense(target_vocab_size,kernel_initializer = tf.truncated_normal_initializer(mean=0.0, stddev=0.1))\n",
    "    with tf.variable_scope(\"decode\"):\n",
    "        training_logits = decoding_layer_train(encoder_state, decoded_lstm, dec_embed_input,target_sequence_length, max_target_sequence_length,output_layer, keep_prob)\n",
    "    with tf.variable_scope(\"decode\", reuse=True):\n",
    "        inference_logits = decoding_layer_infer(encoder_state, decoded_lstm, dec_embeddings, target_vocab_to_int['<GO>'],target_vocab_to_int['<EOS>'], max_target_sequence_length,target_vocab_size, output_layer, batch_size, keep_prob)\n",
    "    return training_logits, inference_logits\n",
    "\n",
    "\"\"\"\n",
    "DON'T MODIFY ANYTHING IN THIS CELL THAT IS BELOW THIS LINE\n",
    "\"\"\"\n",
    "tests.test_decoding_layer(decoding_layer)"
   ]
  },
  {
   "cell_type": "markdown",
   "metadata": {},
   "source": [
    "### Build the Neural Network\n",
    "Apply the functions you implemented above to:\n",
    "\n",
    "- Encode the input using your `encoding_layer(rnn_inputs, rnn_size, num_layers, keep_prob,  source_sequence_length, source_vocab_size, encoding_embedding_size)`.\n",
    "- Process target data using your `process_decoder_input(target_data, target_vocab_to_int, batch_size)` function.\n",
    "- Decode the encoded input using your `decoding_layer(dec_input, enc_state, target_sequence_length, max_target_sentence_length, rnn_size, num_layers, target_vocab_to_int, target_vocab_size, batch_size, keep_prob, dec_embedding_size)` function."
   ]
  },
  {
   "cell_type": "code",
   "execution_count": 19,
   "metadata": {},
   "outputs": [
    {
     "name": "stdout",
     "output_type": "stream",
     "text": [
      "Tests Passed\n"
     ]
    }
   ],
   "source": [
    "def seq2seq_model(input_data, target_data, keep_prob, batch_size,\n",
    "                  source_sequence_length, target_sequence_length,\n",
    "                  max_target_sentence_length,\n",
    "                  source_vocab_size, target_vocab_size,\n",
    "                  enc_embedding_size, dec_embedding_size,\n",
    "                  rnn_size, num_layers, target_vocab_to_int):\n",
    "    \"\"\"\n",
    "    Build the Sequence-to-Sequence part of the neural network\n",
    "    :param input_data: Input placeholder\n",
    "    :param target_data: Target placeholder\n",
    "    :param keep_prob: Dropout keep probability placeholder\n",
    "    :param batch_size: Batch Size\n",
    "    :param source_sequence_length: Sequence Lengths of source sequences in the batch\n",
    "    :param target_sequence_length: Sequence Lengths of target sequences in the batch\n",
    "    :param source_vocab_size: Source vocabulary size\n",
    "    :param target_vocab_size: Target vocabulary size\n",
    "    :param enc_embedding_size: Decoder embedding size\n",
    "    :param dec_embedding_size: Encoder embedding size\n",
    "    :param rnn_size: RNN Size\n",
    "    :param num_layers: Number of layers\n",
    "    :param target_vocab_to_int: Dictionary to go from the target words to an id\n",
    "    :return: Tuple of (Training BasicDecoderOutput, Inference BasicDecoderOutput)\n",
    "    \"\"\"\n",
    "    enc_output, enc_state = encoding_layer(input_data, rnn_size, num_layers, keep_prob, \n",
    "                   source_sequence_length, source_vocab_size, \n",
    "                   enc_embedding_size)\n",
    "    dec_in = process_decoder_input(target_data, target_vocab_to_int, batch_size)\n",
    "    training, inference = decoding_layer(dec_in, enc_state, target_sequence_length, max_target_sentence_length,\n",
    "                                rnn_size, num_layers, target_vocab_to_int, target_vocab_size, batch_size,\n",
    "                                keep_prob, dec_embedding_size)\n",
    "    return training, inference\n",
    "\n",
    "\n",
    "\"\"\"\n",
    "DON'T MODIFY ANYTHING IN THIS CELL THAT IS BELOW THIS LINE\n",
    "\"\"\"\n",
    "tests.test_seq2seq_model(seq2seq_model)"
   ]
  },
  {
   "cell_type": "markdown",
   "metadata": {},
   "source": [
    "## Neural Network Training\n",
    "### Hyperparameters\n",
    "Tune the following parameters:\n",
    "\n",
    "- Set `epochs` to the number of epochs.\n",
    "- Set `batch_size` to the batch size.\n",
    "- Set `rnn_size` to the size of the RNNs.\n",
    "- Set `num_layers` to the number of layers.\n",
    "- Set `encoding_embedding_size` to the size of the embedding for the encoder.\n",
    "- Set `decoding_embedding_size` to the size of the embedding for the decoder.\n",
    "- Set `learning_rate` to the learning rate.\n",
    "- Set `keep_probability` to the Dropout keep probability\n",
    "- Set `display_step` to state how many steps between each debug output statement"
   ]
  },
  {
   "cell_type": "code",
   "execution_count": 28,
   "metadata": {
    "collapsed": true
   },
   "outputs": [],
   "source": [
    "epochs = 6\n",
    "display_step = 5\n",
    "batch_size = 512\n",
    "rnn_size = 512\n",
    "num_layers = 4\n",
    "encoding_embedding_size = 128\n",
    "decoding_embedding_size = 128\n",
    "learning_rate = 0.001\n",
    "keep_probability = 0.75"
   ]
  },
  {
   "cell_type": "markdown",
   "metadata": {},
   "source": [
    "### Build the Graph\n",
    "Build the graph using the neural network you implemented."
   ]
  },
  {
   "cell_type": "code",
   "execution_count": 29,
   "metadata": {
    "collapsed": true
   },
   "outputs": [],
   "source": [
    "\"\"\"\n",
    "DON'T MODIFY ANYTHING IN THIS CELL\n",
    "\"\"\"\n",
    "save_path = 'checkpoints/dev'\n",
    "(source_int_text, target_int_text), (source_vocab_to_int, target_vocab_to_int), _ = helper.load_preprocess()\n",
    "max_target_sentence_length = max([len(sentence) for sentence in source_int_text])\n",
    "\n",
    "train_graph = tf.Graph()\n",
    "with train_graph.as_default():\n",
    "    input_data, targets, lr, keep_prob, target_sequence_length, max_target_sequence_length, source_sequence_length = model_inputs()\n",
    "\n",
    "    #sequence_length = tf.placeholder_with_default(max_target_sentence_length, None, name='sequence_length')\n",
    "    input_shape = tf.shape(input_data)\n",
    "\n",
    "    train_logits, inference_logits = seq2seq_model(tf.reverse(input_data, [-1]),\n",
    "                                                   targets,\n",
    "                                                   keep_prob,\n",
    "                                                   batch_size,\n",
    "                                                   source_sequence_length,\n",
    "                                                   target_sequence_length,\n",
    "                                                   max_target_sequence_length,\n",
    "                                                   len(source_vocab_to_int),\n",
    "                                                   len(target_vocab_to_int),\n",
    "                                                   encoding_embedding_size,\n",
    "                                                   decoding_embedding_size,\n",
    "                                                   rnn_size,\n",
    "                                                   num_layers,\n",
    "                                                   target_vocab_to_int)\n",
    "\n",
    "\n",
    "    training_logits = tf.identity(train_logits.rnn_output, name='logits')\n",
    "    inference_logits = tf.identity(inference_logits.sample_id, name='predictions')\n",
    "\n",
    "    masks = tf.sequence_mask(target_sequence_length, max_target_sequence_length, dtype=tf.float32, name='masks')\n",
    "\n",
    "    with tf.name_scope(\"optimization\"):\n",
    "        # Loss function\n",
    "        cost = tf.contrib.seq2seq.sequence_loss(\n",
    "            training_logits,\n",
    "            targets,\n",
    "            masks)\n",
    "\n",
    "        # Optimizer\n",
    "        optimizer = tf.train.AdamOptimizer(lr)\n",
    "\n",
    "        # Gradient Clipping\n",
    "        gradients = optimizer.compute_gradients(cost)\n",
    "        capped_gradients = [(tf.clip_by_value(grad, -1., 1.), var) for grad, var in gradients if grad is not None]\n",
    "        train_op = optimizer.apply_gradients(capped_gradients)\n"
   ]
  },
  {
   "cell_type": "markdown",
   "metadata": {},
   "source": [
    "Batch and pad the source and target sequences"
   ]
  },
  {
   "cell_type": "code",
   "execution_count": 30,
   "metadata": {
    "collapsed": true
   },
   "outputs": [],
   "source": [
    "\"\"\"\n",
    "DON'T MODIFY ANYTHING IN THIS CELL\n",
    "\"\"\"\n",
    "def pad_sentence_batch(sentence_batch, pad_int):\n",
    "    \"\"\"Pad sentences with <PAD> so that each sentence of a batch has the same length\"\"\"\n",
    "    max_sentence = max([len(sentence) for sentence in sentence_batch])\n",
    "    return [sentence + [pad_int] * (max_sentence - len(sentence)) for sentence in sentence_batch]\n",
    "\n",
    "\n",
    "def get_batches(sources, targets, batch_size, source_pad_int, target_pad_int):\n",
    "    \"\"\"Batch targets, sources, and the lengths of their sentences together\"\"\"\n",
    "    for batch_i in range(0, len(sources)//batch_size):\n",
    "        start_i = batch_i * batch_size\n",
    "\n",
    "        # Slice the right amount for the batch\n",
    "        sources_batch = sources[start_i:start_i + batch_size]\n",
    "        targets_batch = targets[start_i:start_i + batch_size]\n",
    "\n",
    "        # Pad\n",
    "        pad_sources_batch = np.array(pad_sentence_batch(sources_batch, source_pad_int))\n",
    "        pad_targets_batch = np.array(pad_sentence_batch(targets_batch, target_pad_int))\n",
    "\n",
    "        # Need the lengths for the _lengths parameters\n",
    "        pad_targets_lengths = []\n",
    "        for target in pad_targets_batch:\n",
    "            pad_targets_lengths.append(len(target))\n",
    "\n",
    "        pad_source_lengths = []\n",
    "        for source in pad_sources_batch:\n",
    "            pad_source_lengths.append(len(source))\n",
    "\n",
    "        yield pad_sources_batch, pad_targets_batch, pad_source_lengths, pad_targets_lengths\n"
   ]
  },
  {
   "cell_type": "markdown",
   "metadata": {},
   "source": [
    "### Train\n",
    "Train the neural network on the preprocessed data. If you have a hard time getting a good loss, check the forms to see if anyone is having the same problem."
   ]
  },
  {
   "cell_type": "code",
   "execution_count": 31,
   "metadata": {
    "scrolled": true
   },
   "outputs": [
    {
     "name": "stdout",
     "output_type": "stream",
     "text": [
      "Epoch   0 Batch    5/269 - Train Accuracy: 0.2755, Validation Accuracy: 0.3513, Loss: 3.7395\n",
      "Epoch   0 Batch   10/269 - Train Accuracy: 0.3155, Validation Accuracy: 0.3773, Loss: 3.2390\n",
      "Epoch   0 Batch   15/269 - Train Accuracy: 0.3903, Validation Accuracy: 0.4283, Loss: 2.8585\n",
      "Epoch   0 Batch   20/269 - Train Accuracy: 0.3850, Validation Accuracy: 0.4389, Loss: 2.8907\n",
      "Epoch   0 Batch   25/269 - Train Accuracy: 0.3838, Validation Accuracy: 0.4385, Loss: 2.7118\n",
      "Epoch   0 Batch   30/269 - Train Accuracy: 0.4342, Validation Accuracy: 0.4627, Loss: 2.4929\n",
      "Epoch   0 Batch   35/269 - Train Accuracy: 0.4524, Validation Accuracy: 0.4719, Loss: 2.3697\n",
      "Epoch   0 Batch   40/269 - Train Accuracy: 0.4339, Validation Accuracy: 0.4765, Loss: 2.4062\n",
      "Epoch   0 Batch   45/269 - Train Accuracy: 0.4517, Validation Accuracy: 0.4949, Loss: 2.3292\n",
      "Epoch   0 Batch   50/269 - Train Accuracy: 0.4607, Validation Accuracy: 0.5036, Loss: 2.2202\n",
      "Epoch   0 Batch   55/269 - Train Accuracy: 0.4619, Validation Accuracy: 0.4835, Loss: 2.0672\n",
      "Epoch   0 Batch   60/269 - Train Accuracy: 0.4912, Validation Accuracy: 0.4992, Loss: 2.0549\n",
      "Epoch   0 Batch   65/269 - Train Accuracy: 0.4785, Validation Accuracy: 0.4964, Loss: 1.9534\n",
      "Epoch   0 Batch   70/269 - Train Accuracy: 0.4917, Validation Accuracy: 0.5028, Loss: 1.8846\n",
      "Epoch   0 Batch   75/269 - Train Accuracy: 0.4927, Validation Accuracy: 0.5175, Loss: 1.9687\n",
      "Epoch   0 Batch   80/269 - Train Accuracy: 0.4595, Validation Accuracy: 0.4851, Loss: 1.9006\n",
      "Epoch   0 Batch   85/269 - Train Accuracy: 0.4934, Validation Accuracy: 0.5225, Loss: 1.8294\n",
      "Epoch   0 Batch   90/269 - Train Accuracy: 0.4641, Validation Accuracy: 0.5159, Loss: 1.8639\n",
      "Epoch   0 Batch   95/269 - Train Accuracy: 0.4919, Validation Accuracy: 0.5164, Loss: 1.6581\n",
      "Epoch   0 Batch  100/269 - Train Accuracy: 0.5149, Validation Accuracy: 0.5174, Loss: 1.5737\n",
      "Epoch   0 Batch  105/269 - Train Accuracy: 0.4951, Validation Accuracy: 0.5283, Loss: 1.5905\n",
      "Epoch   0 Batch  110/269 - Train Accuracy: 0.5057, Validation Accuracy: 0.5328, Loss: 1.5450\n",
      "Epoch   0 Batch  115/269 - Train Accuracy: 0.5077, Validation Accuracy: 0.5431, Loss: 1.5193\n",
      "Epoch   0 Batch  120/269 - Train Accuracy: 0.5010, Validation Accuracy: 0.5396, Loss: 1.5186\n",
      "Epoch   0 Batch  125/269 - Train Accuracy: 0.5027, Validation Accuracy: 0.5242, Loss: 1.5220\n",
      "Epoch   0 Batch  130/269 - Train Accuracy: 0.4605, Validation Accuracy: 0.5095, Loss: 1.6596\n",
      "Epoch   0 Batch  135/269 - Train Accuracy: 0.4688, Validation Accuracy: 0.5197, Loss: 1.5737\n",
      "Epoch   0 Batch  140/269 - Train Accuracy: 0.5059, Validation Accuracy: 0.5280, Loss: 1.4295\n",
      "Epoch   0 Batch  145/269 - Train Accuracy: 0.5314, Validation Accuracy: 0.5416, Loss: 1.3609\n",
      "Epoch   0 Batch  150/269 - Train Accuracy: 0.5484, Validation Accuracy: 0.5640, Loss: 1.3301\n",
      "Epoch   0 Batch  155/269 - Train Accuracy: 0.5842, Validation Accuracy: 0.5654, Loss: 1.2034\n",
      "Epoch   0 Batch  160/269 - Train Accuracy: 0.5479, Validation Accuracy: 0.5610, Loss: 1.2534\n",
      "Epoch   0 Batch  165/269 - Train Accuracy: 0.5083, Validation Accuracy: 0.5547, Loss: 1.2851\n",
      "Epoch   0 Batch  170/269 - Train Accuracy: 0.5524, Validation Accuracy: 0.5724, Loss: 1.1865\n",
      "Epoch   0 Batch  175/269 - Train Accuracy: 0.5436, Validation Accuracy: 0.5470, Loss: 1.1884\n",
      "Epoch   0 Batch  180/269 - Train Accuracy: 0.5345, Validation Accuracy: 0.5427, Loss: 1.1368\n",
      "Epoch   0 Batch  185/269 - Train Accuracy: 0.5552, Validation Accuracy: 0.5618, Loss: 1.1189\n",
      "Epoch   0 Batch  190/269 - Train Accuracy: 0.5407, Validation Accuracy: 0.5530, Loss: 1.0727\n",
      "Epoch   0 Batch  195/269 - Train Accuracy: 0.5430, Validation Accuracy: 0.5500, Loss: 1.0828\n",
      "Epoch   0 Batch  200/269 - Train Accuracy: 0.5499, Validation Accuracy: 0.5613, Loss: 1.0940\n",
      "Epoch   0 Batch  205/269 - Train Accuracy: 0.5509, Validation Accuracy: 0.5615, Loss: 1.0266\n",
      "Epoch   0 Batch  210/269 - Train Accuracy: 0.5539, Validation Accuracy: 0.5520, Loss: 1.0392\n",
      "Epoch   0 Batch  215/269 - Train Accuracy: 0.5705, Validation Accuracy: 0.5587, Loss: 0.9857\n",
      "Epoch   0 Batch  220/269 - Train Accuracy: 0.5221, Validation Accuracy: 0.5285, Loss: 1.3442\n",
      "Epoch   0 Batch  225/269 - Train Accuracy: 0.4777, Validation Accuracy: 0.5330, Loss: 1.3478\n",
      "Epoch   0 Batch  230/269 - Train Accuracy: 0.5060, Validation Accuracy: 0.5407, Loss: 1.2030\n",
      "Epoch   0 Batch  235/269 - Train Accuracy: 0.5206, Validation Accuracy: 0.5307, Loss: 1.1064\n",
      "Epoch   0 Batch  240/269 - Train Accuracy: 0.5906, Validation Accuracy: 0.5610, Loss: 0.9615\n",
      "Epoch   0 Batch  245/269 - Train Accuracy: 0.5170, Validation Accuracy: 0.5414, Loss: 1.0909\n",
      "Epoch   0 Batch  250/269 - Train Accuracy: 0.5368, Validation Accuracy: 0.5582, Loss: 1.0204\n",
      "Epoch   0 Batch  255/269 - Train Accuracy: 0.5608, Validation Accuracy: 0.5447, Loss: 0.9468\n",
      "Epoch   0 Batch  260/269 - Train Accuracy: 0.5091, Validation Accuracy: 0.5445, Loss: 1.0256\n",
      "Epoch   0 Batch  265/269 - Train Accuracy: 0.5460, Validation Accuracy: 0.5700, Loss: 0.9730\n",
      "Epoch   1 Batch    5/269 - Train Accuracy: 0.5321, Validation Accuracy: 0.5664, Loss: 0.9536\n",
      "Epoch   1 Batch   10/269 - Train Accuracy: 0.5717, Validation Accuracy: 0.5908, Loss: 0.9524\n",
      "Epoch   1 Batch   15/269 - Train Accuracy: 0.5401, Validation Accuracy: 0.5515, Loss: 0.9153\n",
      "Epoch   1 Batch   20/269 - Train Accuracy: 0.5737, Validation Accuracy: 0.5911, Loss: 0.9382\n",
      "Epoch   1 Batch   25/269 - Train Accuracy: 0.5291, Validation Accuracy: 0.5655, Loss: 0.9470\n",
      "Epoch   1 Batch   30/269 - Train Accuracy: 0.5672, Validation Accuracy: 0.5670, Loss: 0.8763\n",
      "Epoch   1 Batch   35/269 - Train Accuracy: 0.5968, Validation Accuracy: 0.5961, Loss: 0.9012\n",
      "Epoch   1 Batch   40/269 - Train Accuracy: 0.5660, Validation Accuracy: 0.5909, Loss: 0.9135\n",
      "Epoch   1 Batch   45/269 - Train Accuracy: 0.5717, Validation Accuracy: 0.5960, Loss: 0.9243\n",
      "Epoch   1 Batch   50/269 - Train Accuracy: 0.5812, Validation Accuracy: 0.5993, Loss: 0.9261\n",
      "Epoch   1 Batch   55/269 - Train Accuracy: 0.6090, Validation Accuracy: 0.6027, Loss: 0.8797\n",
      "Epoch   1 Batch   60/269 - Train Accuracy: 0.6080, Validation Accuracy: 0.6029, Loss: 0.8248\n",
      "Epoch   1 Batch   65/269 - Train Accuracy: 0.6007, Validation Accuracy: 0.5977, Loss: 0.8378\n",
      "Epoch   1 Batch   70/269 - Train Accuracy: 0.6084, Validation Accuracy: 0.6129, Loss: 0.8366\n",
      "Epoch   1 Batch   75/269 - Train Accuracy: 0.5940, Validation Accuracy: 0.6003, Loss: 0.8324\n",
      "Epoch   1 Batch   80/269 - Train Accuracy: 0.6160, Validation Accuracy: 0.5956, Loss: 0.8143\n",
      "Epoch   1 Batch   85/269 - Train Accuracy: 0.6006, Validation Accuracy: 0.5995, Loss: 0.8012\n",
      "Epoch   1 Batch   90/269 - Train Accuracy: 0.5634, Validation Accuracy: 0.5985, Loss: 0.8524\n",
      "Epoch   1 Batch   95/269 - Train Accuracy: 0.6020, Validation Accuracy: 0.6128, Loss: 0.8402\n",
      "Epoch   1 Batch  100/269 - Train Accuracy: 0.6104, Validation Accuracy: 0.6035, Loss: 0.7749\n",
      "Epoch   1 Batch  105/269 - Train Accuracy: 0.5926, Validation Accuracy: 0.5934, Loss: 0.8340\n",
      "Epoch   1 Batch  110/269 - Train Accuracy: 0.5937, Validation Accuracy: 0.6149, Loss: 0.8099\n",
      "Epoch   1 Batch  115/269 - Train Accuracy: 0.5903, Validation Accuracy: 0.6180, Loss: 0.8048\n",
      "Epoch   1 Batch  120/269 - Train Accuracy: 0.5900, Validation Accuracy: 0.6060, Loss: 0.8034\n",
      "Epoch   1 Batch  125/269 - Train Accuracy: 0.6157, Validation Accuracy: 0.6182, Loss: 0.7310\n",
      "Epoch   1 Batch  130/269 - Train Accuracy: 0.5995, Validation Accuracy: 0.6148, Loss: 0.7738\n",
      "Epoch   1 Batch  135/269 - Train Accuracy: 0.6063, Validation Accuracy: 0.6207, Loss: 0.7702\n",
      "Epoch   1 Batch  140/269 - Train Accuracy: 0.6285, Validation Accuracy: 0.6293, Loss: 0.7315\n",
      "Epoch   1 Batch  145/269 - Train Accuracy: 0.6190, Validation Accuracy: 0.6185, Loss: 0.6988\n",
      "Epoch   1 Batch  150/269 - Train Accuracy: 0.6266, Validation Accuracy: 0.6175, Loss: 0.7015\n",
      "Epoch   1 Batch  155/269 - Train Accuracy: 0.6527, Validation Accuracy: 0.6342, Loss: 0.6654\n",
      "Epoch   1 Batch  160/269 - Train Accuracy: 0.6388, Validation Accuracy: 0.6241, Loss: 0.6679\n",
      "Epoch   1 Batch  165/269 - Train Accuracy: 0.6084, Validation Accuracy: 0.6278, Loss: 0.6784\n",
      "Epoch   1 Batch  170/269 - Train Accuracy: 0.6261, Validation Accuracy: 0.6317, Loss: 0.6520\n",
      "Epoch   1 Batch  175/269 - Train Accuracy: 0.6279, Validation Accuracy: 0.6274, Loss: 0.6640\n",
      "Epoch   1 Batch  180/269 - Train Accuracy: 0.6297, Validation Accuracy: 0.6246, Loss: 0.6278\n"
     ]
    },
    {
     "name": "stdout",
     "output_type": "stream",
     "text": [
      "Epoch   1 Batch  185/269 - Train Accuracy: 0.6446, Validation Accuracy: 0.6341, Loss: 0.6258\n",
      "Epoch   1 Batch  190/269 - Train Accuracy: 0.6459, Validation Accuracy: 0.6379, Loss: 0.6165\n",
      "Epoch   1 Batch  195/269 - Train Accuracy: 0.6461, Validation Accuracy: 0.6430, Loss: 0.6124\n",
      "Epoch   1 Batch  200/269 - Train Accuracy: 0.6088, Validation Accuracy: 0.6323, Loss: 0.6346\n",
      "Epoch   1 Batch  205/269 - Train Accuracy: 0.6429, Validation Accuracy: 0.6491, Loss: 0.5904\n",
      "Epoch   1 Batch  210/269 - Train Accuracy: 0.6580, Validation Accuracy: 0.6381, Loss: 0.5848\n",
      "Epoch   1 Batch  215/269 - Train Accuracy: 0.6616, Validation Accuracy: 0.6460, Loss: 0.5527\n",
      "Epoch   1 Batch  220/269 - Train Accuracy: 0.6588, Validation Accuracy: 0.6515, Loss: 0.5474\n",
      "Epoch   1 Batch  225/269 - Train Accuracy: 0.6472, Validation Accuracy: 0.6499, Loss: 0.5806\n",
      "Epoch   1 Batch  230/269 - Train Accuracy: 0.6442, Validation Accuracy: 0.6502, Loss: 0.5710\n",
      "Epoch   1 Batch  235/269 - Train Accuracy: 0.6387, Validation Accuracy: 0.6330, Loss: 0.5609\n",
      "Epoch   1 Batch  240/269 - Train Accuracy: 0.1030, Validation Accuracy: 0.0962, Loss: 8.5975\n",
      "Epoch   1 Batch  245/269 - Train Accuracy: 0.4043, Validation Accuracy: 0.4522, Loss: 2.8192\n",
      "Epoch   1 Batch  250/269 - Train Accuracy: 0.4709, Validation Accuracy: 0.5040, Loss: 1.9782\n",
      "Epoch   1 Batch  255/269 - Train Accuracy: 0.5444, Validation Accuracy: 0.5320, Loss: 1.5693\n",
      "Epoch   1 Batch  260/269 - Train Accuracy: 0.5485, Validation Accuracy: 0.5854, Loss: 1.5863\n",
      "Epoch   1 Batch  265/269 - Train Accuracy: 0.5824, Validation Accuracy: 0.5937, Loss: 1.2901\n",
      "Epoch   2 Batch    5/269 - Train Accuracy: 0.5413, Validation Accuracy: 0.5697, Loss: 1.2701\n",
      "Epoch   2 Batch   10/269 - Train Accuracy: 0.5062, Validation Accuracy: 0.5537, Loss: 1.1336\n",
      "Epoch   2 Batch   15/269 - Train Accuracy: 0.5397, Validation Accuracy: 0.5692, Loss: 0.9559\n",
      "Epoch   2 Batch   20/269 - Train Accuracy: 0.5688, Validation Accuracy: 0.5851, Loss: 0.9437\n",
      "Epoch   2 Batch   25/269 - Train Accuracy: 0.5788, Validation Accuracy: 0.6007, Loss: 0.8997\n",
      "Epoch   2 Batch   30/269 - Train Accuracy: 0.6013, Validation Accuracy: 0.6070, Loss: 0.7973\n",
      "Epoch   2 Batch   35/269 - Train Accuracy: 0.6342, Validation Accuracy: 0.6294, Loss: 0.7823\n",
      "Epoch   2 Batch   40/269 - Train Accuracy: 0.6288, Validation Accuracy: 0.6400, Loss: 0.7835\n",
      "Epoch   2 Batch   45/269 - Train Accuracy: 0.6147, Validation Accuracy: 0.6411, Loss: 0.7735\n",
      "Epoch   2 Batch   50/269 - Train Accuracy: 0.6133, Validation Accuracy: 0.6331, Loss: 0.7505\n",
      "Epoch   2 Batch   55/269 - Train Accuracy: 0.6404, Validation Accuracy: 0.6315, Loss: 0.6957\n",
      "Epoch   2 Batch   60/269 - Train Accuracy: 0.6458, Validation Accuracy: 0.6448, Loss: 0.6631\n",
      "Epoch   2 Batch   65/269 - Train Accuracy: 0.6333, Validation Accuracy: 0.6333, Loss: 0.6702\n",
      "Epoch   2 Batch   70/269 - Train Accuracy: 0.6524, Validation Accuracy: 0.6464, Loss: 0.6692\n",
      "Epoch   2 Batch   75/269 - Train Accuracy: 0.6266, Validation Accuracy: 0.6399, Loss: 0.6502\n",
      "Epoch   2 Batch   80/269 - Train Accuracy: 0.6532, Validation Accuracy: 0.6538, Loss: 0.6362\n",
      "Epoch   2 Batch   85/269 - Train Accuracy: 0.6520, Validation Accuracy: 0.6595, Loss: 0.6376\n",
      "Epoch   2 Batch   90/269 - Train Accuracy: 0.6155, Validation Accuracy: 0.6473, Loss: 0.6623\n",
      "Epoch   2 Batch   95/269 - Train Accuracy: 0.6427, Validation Accuracy: 0.6468, Loss: 0.6238\n",
      "Epoch   2 Batch  100/269 - Train Accuracy: 0.6763, Validation Accuracy: 0.6515, Loss: 0.6012\n",
      "Epoch   2 Batch  105/269 - Train Accuracy: 0.6384, Validation Accuracy: 0.6531, Loss: 0.6139\n",
      "Epoch   2 Batch  110/269 - Train Accuracy: 0.6480, Validation Accuracy: 0.6562, Loss: 0.5885\n",
      "Epoch   2 Batch  115/269 - Train Accuracy: 0.6364, Validation Accuracy: 0.6515, Loss: 0.6151\n",
      "Epoch   2 Batch  120/269 - Train Accuracy: 0.6482, Validation Accuracy: 0.6513, Loss: 0.6033\n",
      "Epoch   2 Batch  125/269 - Train Accuracy: 0.6471, Validation Accuracy: 0.6456, Loss: 0.5694\n",
      "Epoch   2 Batch  130/269 - Train Accuracy: 0.6131, Validation Accuracy: 0.6446, Loss: 0.5903\n",
      "Epoch   2 Batch  135/269 - Train Accuracy: 0.6354, Validation Accuracy: 0.6540, Loss: 0.6037\n",
      "Epoch   2 Batch  140/269 - Train Accuracy: 0.6554, Validation Accuracy: 0.6590, Loss: 0.5740\n",
      "Epoch   2 Batch  145/269 - Train Accuracy: 0.6444, Validation Accuracy: 0.6566, Loss: 0.5579\n",
      "Epoch   2 Batch  150/269 - Train Accuracy: 0.6654, Validation Accuracy: 0.6606, Loss: 0.5531\n",
      "Epoch   2 Batch  155/269 - Train Accuracy: 0.6738, Validation Accuracy: 0.6594, Loss: 0.5262\n",
      "Epoch   2 Batch  160/269 - Train Accuracy: 0.6640, Validation Accuracy: 0.6634, Loss: 0.5326\n",
      "Epoch   2 Batch  165/269 - Train Accuracy: 0.6467, Validation Accuracy: 0.6685, Loss: 0.5488\n",
      "Epoch   2 Batch  170/269 - Train Accuracy: 0.6622, Validation Accuracy: 0.6641, Loss: 0.5213\n",
      "Epoch   2 Batch  175/269 - Train Accuracy: 0.6674, Validation Accuracy: 0.6663, Loss: 0.5435\n",
      "Epoch   2 Batch  180/269 - Train Accuracy: 0.6642, Validation Accuracy: 0.6656, Loss: 0.5216\n",
      "Epoch   2 Batch  185/269 - Train Accuracy: 0.6855, Validation Accuracy: 0.6749, Loss: 0.5057\n",
      "Epoch   2 Batch  190/269 - Train Accuracy: 0.6650, Validation Accuracy: 0.6718, Loss: 0.4975\n",
      "Epoch   2 Batch  195/269 - Train Accuracy: 0.6744, Validation Accuracy: 0.6752, Loss: 0.4965\n",
      "Epoch   2 Batch  200/269 - Train Accuracy: 0.6589, Validation Accuracy: 0.6738, Loss: 0.5075\n",
      "Epoch   2 Batch  205/269 - Train Accuracy: 0.6713, Validation Accuracy: 0.6792, Loss: 0.4879\n",
      "Epoch   2 Batch  210/269 - Train Accuracy: 0.6754, Validation Accuracy: 0.6759, Loss: 0.4704\n",
      "Epoch   2 Batch  215/269 - Train Accuracy: 0.7021, Validation Accuracy: 0.6841, Loss: 0.4465\n",
      "Epoch   2 Batch  220/269 - Train Accuracy: 0.6885, Validation Accuracy: 0.6766, Loss: 0.4501\n",
      "Epoch   2 Batch  225/269 - Train Accuracy: 0.6785, Validation Accuracy: 0.6803, Loss: 0.4849\n",
      "Epoch   2 Batch  230/269 - Train Accuracy: 0.6687, Validation Accuracy: 0.6814, Loss: 0.4656\n",
      "Epoch   2 Batch  235/269 - Train Accuracy: 0.6827, Validation Accuracy: 0.6807, Loss: 0.4481\n",
      "Epoch   2 Batch  240/269 - Train Accuracy: 0.7039, Validation Accuracy: 0.6790, Loss: 0.4084\n",
      "Epoch   2 Batch  245/269 - Train Accuracy: 0.6689, Validation Accuracy: 0.6878, Loss: 0.4689\n",
      "Epoch   2 Batch  250/269 - Train Accuracy: 0.6886, Validation Accuracy: 0.6838, Loss: 0.4499\n",
      "Epoch   2 Batch  255/269 - Train Accuracy: 0.7057, Validation Accuracy: 0.6796, Loss: 0.4152\n",
      "Epoch   2 Batch  260/269 - Train Accuracy: 0.6606, Validation Accuracy: 0.6874, Loss: 0.5012\n",
      "Epoch   2 Batch  265/269 - Train Accuracy: 0.6802, Validation Accuracy: 0.6784, Loss: 0.4847\n",
      "Epoch   3 Batch    5/269 - Train Accuracy: 0.6491, Validation Accuracy: 0.6730, Loss: 0.4700\n",
      "Epoch   3 Batch   10/269 - Train Accuracy: 0.6605, Validation Accuracy: 0.6827, Loss: 0.4498\n",
      "Epoch   3 Batch   15/269 - Train Accuracy: 0.6853, Validation Accuracy: 0.6895, Loss: 0.4145\n",
      "Epoch   3 Batch   20/269 - Train Accuracy: 0.6820, Validation Accuracy: 0.6841, Loss: 0.4367\n",
      "Epoch   3 Batch   25/269 - Train Accuracy: 0.6718, Validation Accuracy: 0.6895, Loss: 0.4665\n",
      "Epoch   3 Batch   30/269 - Train Accuracy: 0.7030, Validation Accuracy: 0.6949, Loss: 0.4201\n",
      "Epoch   3 Batch   35/269 - Train Accuracy: 0.7025, Validation Accuracy: 0.6972, Loss: 0.4249\n",
      "Epoch   3 Batch   40/269 - Train Accuracy: 0.6966, Validation Accuracy: 0.7018, Loss: 0.4345\n",
      "Epoch   3 Batch   45/269 - Train Accuracy: 0.7028, Validation Accuracy: 0.7113, Loss: 0.4163\n",
      "Epoch   3 Batch   50/269 - Train Accuracy: 0.6840, Validation Accuracy: 0.7013, Loss: 0.4208\n",
      "Epoch   3 Batch   55/269 - Train Accuracy: 0.7300, Validation Accuracy: 0.7082, Loss: 0.3929\n",
      "Epoch   3 Batch   60/269 - Train Accuracy: 0.7374, Validation Accuracy: 0.7086, Loss: 0.3700\n",
      "Epoch   3 Batch   65/269 - Train Accuracy: 0.7104, Validation Accuracy: 0.7183, Loss: 0.3806\n",
      "Epoch   3 Batch   70/269 - Train Accuracy: 0.7297, Validation Accuracy: 0.7083, Loss: 0.3766\n",
      "Epoch   3 Batch   75/269 - Train Accuracy: 0.7508, Validation Accuracy: 0.7220, Loss: 0.3724\n",
      "Epoch   3 Batch   80/269 - Train Accuracy: 0.7425, Validation Accuracy: 0.7154, Loss: 0.3712\n",
      "Epoch   3 Batch   85/269 - Train Accuracy: 0.7501, Validation Accuracy: 0.7243, Loss: 0.3650\n",
      "Epoch   3 Batch   90/269 - Train Accuracy: 0.6861, Validation Accuracy: 0.7205, Loss: 0.3797\n",
      "Epoch   3 Batch   95/269 - Train Accuracy: 0.7282, Validation Accuracy: 0.7319, Loss: 0.3573\n"
     ]
    },
    {
     "name": "stdout",
     "output_type": "stream",
     "text": [
      "Epoch   3 Batch  100/269 - Train Accuracy: 0.7635, Validation Accuracy: 0.7247, Loss: 0.3512\n",
      "Epoch   3 Batch  105/269 - Train Accuracy: 0.7450, Validation Accuracy: 0.7400, Loss: 0.3500\n",
      "Epoch   3 Batch  110/269 - Train Accuracy: 0.7387, Validation Accuracy: 0.7397, Loss: 0.3392\n",
      "Epoch   3 Batch  115/269 - Train Accuracy: 0.7363, Validation Accuracy: 0.7415, Loss: 0.3564\n",
      "Epoch   3 Batch  120/269 - Train Accuracy: 0.7400, Validation Accuracy: 0.7335, Loss: 0.3439\n",
      "Epoch   3 Batch  125/269 - Train Accuracy: 0.7060, Validation Accuracy: 0.7025, Loss: 0.3509\n",
      "Epoch   3 Batch  130/269 - Train Accuracy: 0.7105, Validation Accuracy: 0.7195, Loss: 0.3471\n",
      "Epoch   3 Batch  135/269 - Train Accuracy: 0.7138, Validation Accuracy: 0.7185, Loss: 0.3531\n",
      "Epoch   3 Batch  140/269 - Train Accuracy: 0.7470, Validation Accuracy: 0.7405, Loss: 0.3446\n",
      "Epoch   3 Batch  145/269 - Train Accuracy: 0.7613, Validation Accuracy: 0.7557, Loss: 0.3193\n",
      "Epoch   3 Batch  150/269 - Train Accuracy: 0.7745, Validation Accuracy: 0.7474, Loss: 0.3127\n",
      "Epoch   3 Batch  155/269 - Train Accuracy: 0.7720, Validation Accuracy: 0.7607, Loss: 0.2900\n",
      "Epoch   3 Batch  160/269 - Train Accuracy: 0.7855, Validation Accuracy: 0.7752, Loss: 0.2993\n",
      "Epoch   3 Batch  165/269 - Train Accuracy: 0.7903, Validation Accuracy: 0.7704, Loss: 0.3021\n",
      "Epoch   3 Batch  170/269 - Train Accuracy: 0.7851, Validation Accuracy: 0.7718, Loss: 0.2793\n",
      "Epoch   3 Batch  175/269 - Train Accuracy: 0.7731, Validation Accuracy: 0.7638, Loss: 0.3065\n",
      "Epoch   3 Batch  180/269 - Train Accuracy: 0.7978, Validation Accuracy: 0.7821, Loss: 0.2803\n",
      "Epoch   3 Batch  185/269 - Train Accuracy: 0.8061, Validation Accuracy: 0.7670, Loss: 0.2730\n",
      "Epoch   3 Batch  190/269 - Train Accuracy: 0.7919, Validation Accuracy: 0.7733, Loss: 0.2694\n",
      "Epoch   3 Batch  195/269 - Train Accuracy: 0.7886, Validation Accuracy: 0.7668, Loss: 0.2789\n",
      "Epoch   3 Batch  200/269 - Train Accuracy: 0.7383, Validation Accuracy: 0.7356, Loss: 0.3303\n",
      "Epoch   3 Batch  205/269 - Train Accuracy: 0.7608, Validation Accuracy: 0.7424, Loss: 0.2975\n",
      "Epoch   3 Batch  210/269 - Train Accuracy: 0.7739, Validation Accuracy: 0.7560, Loss: 0.2760\n",
      "Epoch   3 Batch  215/269 - Train Accuracy: 0.7854, Validation Accuracy: 0.7747, Loss: 0.2560\n",
      "Epoch   3 Batch  220/269 - Train Accuracy: 0.7957, Validation Accuracy: 0.7830, Loss: 0.2498\n",
      "Epoch   3 Batch  225/269 - Train Accuracy: 0.7925, Validation Accuracy: 0.7898, Loss: 0.2538\n",
      "Epoch   3 Batch  230/269 - Train Accuracy: 0.8039, Validation Accuracy: 0.7877, Loss: 0.2480\n",
      "Epoch   3 Batch  235/269 - Train Accuracy: 0.8192, Validation Accuracy: 0.8034, Loss: 0.2341\n",
      "Epoch   3 Batch  240/269 - Train Accuracy: 0.8233, Validation Accuracy: 0.7987, Loss: 0.2198\n",
      "Epoch   3 Batch  245/269 - Train Accuracy: 0.8009, Validation Accuracy: 0.8026, Loss: 0.2476\n",
      "Epoch   3 Batch  250/269 - Train Accuracy: 0.8260, Validation Accuracy: 0.8016, Loss: 0.2344\n",
      "Epoch   3 Batch  255/269 - Train Accuracy: 0.8182, Validation Accuracy: 0.8123, Loss: 0.2216\n",
      "Epoch   3 Batch  260/269 - Train Accuracy: 0.7834, Validation Accuracy: 0.7951, Loss: 0.2501\n",
      "Epoch   3 Batch  265/269 - Train Accuracy: 0.8133, Validation Accuracy: 0.8016, Loss: 0.2349\n",
      "Epoch   4 Batch    5/269 - Train Accuracy: 0.7789, Validation Accuracy: 0.7866, Loss: 0.2323\n",
      "Epoch   4 Batch   10/269 - Train Accuracy: 0.8351, Validation Accuracy: 0.8058, Loss: 0.2214\n",
      "Epoch   4 Batch   15/269 - Train Accuracy: 0.8358, Validation Accuracy: 0.8039, Loss: 0.2021\n",
      "Epoch   4 Batch   20/269 - Train Accuracy: 0.8092, Validation Accuracy: 0.8009, Loss: 0.2209\n",
      "Epoch   4 Batch   25/269 - Train Accuracy: 0.8151, Validation Accuracy: 0.8212, Loss: 0.2267\n",
      "Epoch   4 Batch   30/269 - Train Accuracy: 0.8384, Validation Accuracy: 0.8234, Loss: 0.2145\n",
      "Epoch   4 Batch   35/269 - Train Accuracy: 0.8361, Validation Accuracy: 0.8292, Loss: 0.2221\n",
      "Epoch   4 Batch   40/269 - Train Accuracy: 0.8350, Validation Accuracy: 0.8271, Loss: 0.2144\n",
      "Epoch   4 Batch   45/269 - Train Accuracy: 0.7939, Validation Accuracy: 0.7983, Loss: 0.2078\n",
      "Epoch   4 Batch   50/269 - Train Accuracy: 0.8053, Validation Accuracy: 0.8075, Loss: 0.2318\n",
      "Epoch   4 Batch   55/269 - Train Accuracy: 0.8440, Validation Accuracy: 0.8259, Loss: 0.2092\n",
      "Epoch   4 Batch   60/269 - Train Accuracy: 0.8286, Validation Accuracy: 0.8137, Loss: 0.1894\n",
      "Epoch   4 Batch   65/269 - Train Accuracy: 0.8283, Validation Accuracy: 0.8208, Loss: 0.1926\n",
      "Epoch   4 Batch   70/269 - Train Accuracy: 0.8477, Validation Accuracy: 0.8158, Loss: 0.1891\n",
      "Epoch   4 Batch   75/269 - Train Accuracy: 0.8433, Validation Accuracy: 0.8279, Loss: 0.1894\n",
      "Epoch   4 Batch   80/269 - Train Accuracy: 0.8242, Validation Accuracy: 0.8069, Loss: 0.1858\n",
      "Epoch   4 Batch   85/269 - Train Accuracy: 0.8116, Validation Accuracy: 0.8058, Loss: 0.1890\n",
      "Epoch   4 Batch   90/269 - Train Accuracy: 0.7904, Validation Accuracy: 0.8261, Loss: 0.1942\n",
      "Epoch   4 Batch   95/269 - Train Accuracy: 0.8475, Validation Accuracy: 0.8394, Loss: 0.1739\n",
      "Epoch   4 Batch  100/269 - Train Accuracy: 0.8630, Validation Accuracy: 0.8349, Loss: 0.1772\n",
      "Epoch   4 Batch  105/269 - Train Accuracy: 0.8477, Validation Accuracy: 0.8386, Loss: 0.1785\n",
      "Epoch   4 Batch  110/269 - Train Accuracy: 0.8462, Validation Accuracy: 0.8301, Loss: 0.1632\n",
      "Epoch   4 Batch  115/269 - Train Accuracy: 0.8399, Validation Accuracy: 0.8340, Loss: 0.1756\n",
      "Epoch   4 Batch  120/269 - Train Accuracy: 0.8698, Validation Accuracy: 0.8433, Loss: 0.1642\n",
      "Epoch   4 Batch  125/269 - Train Accuracy: 0.8772, Validation Accuracy: 0.8343, Loss: 0.1572\n",
      "Epoch   4 Batch  130/269 - Train Accuracy: 0.8756, Validation Accuracy: 0.8545, Loss: 0.1585\n",
      "Epoch   4 Batch  135/269 - Train Accuracy: 0.8416, Validation Accuracy: 0.8596, Loss: 0.1618\n",
      "Epoch   4 Batch  140/269 - Train Accuracy: 0.8621, Validation Accuracy: 0.8396, Loss: 0.1762\n",
      "Epoch   4 Batch  145/269 - Train Accuracy: 0.8560, Validation Accuracy: 0.8383, Loss: 0.1792\n",
      "Epoch   4 Batch  150/269 - Train Accuracy: 0.8380, Validation Accuracy: 0.8263, Loss: 0.1758\n",
      "Epoch   4 Batch  155/269 - Train Accuracy: 0.8328, Validation Accuracy: 0.8102, Loss: 0.1799\n",
      "Epoch   4 Batch  160/269 - Train Accuracy: 0.8524, Validation Accuracy: 0.8293, Loss: 0.1576\n",
      "Epoch   4 Batch  165/269 - Train Accuracy: 0.8693, Validation Accuracy: 0.8409, Loss: 0.1543\n",
      "Epoch   4 Batch  170/269 - Train Accuracy: 0.8616, Validation Accuracy: 0.8560, Loss: 0.1447\n",
      "Epoch   4 Batch  175/269 - Train Accuracy: 0.8577, Validation Accuracy: 0.8646, Loss: 0.1623\n",
      "Epoch   4 Batch  180/269 - Train Accuracy: 0.8844, Validation Accuracy: 0.8706, Loss: 0.1397\n",
      "Epoch   4 Batch  185/269 - Train Accuracy: 0.8942, Validation Accuracy: 0.8629, Loss: 0.1364\n",
      "Epoch   4 Batch  190/269 - Train Accuracy: 0.8889, Validation Accuracy: 0.8604, Loss: 0.1328\n",
      "Epoch   4 Batch  195/269 - Train Accuracy: 0.8768, Validation Accuracy: 0.8535, Loss: 0.1348\n",
      "Epoch   4 Batch  200/269 - Train Accuracy: 0.8604, Validation Accuracy: 0.8583, Loss: 0.1363\n",
      "Epoch   4 Batch  205/269 - Train Accuracy: 0.8492, Validation Accuracy: 0.8374, Loss: 0.1477\n",
      "Epoch   4 Batch  210/269 - Train Accuracy: 0.8670, Validation Accuracy: 0.8577, Loss: 0.1395\n",
      "Epoch   4 Batch  215/269 - Train Accuracy: 0.8699, Validation Accuracy: 0.8487, Loss: 0.1281\n",
      "Epoch   4 Batch  220/269 - Train Accuracy: 0.8838, Validation Accuracy: 0.8618, Loss: 0.1215\n",
      "Epoch   4 Batch  225/269 - Train Accuracy: 0.8753, Validation Accuracy: 0.8652, Loss: 0.1244\n",
      "Epoch   4 Batch  230/269 - Train Accuracy: 0.8799, Validation Accuracy: 0.8647, Loss: 0.1238\n",
      "Epoch   4 Batch  235/269 - Train Accuracy: 0.8896, Validation Accuracy: 0.8651, Loss: 0.1158\n",
      "Epoch   4 Batch  240/269 - Train Accuracy: 0.9013, Validation Accuracy: 0.8690, Loss: 0.1133\n",
      "Epoch   4 Batch  245/269 - Train Accuracy: 0.8722, Validation Accuracy: 0.8540, Loss: 0.1327\n",
      "Epoch   4 Batch  250/269 - Train Accuracy: 0.8916, Validation Accuracy: 0.8665, Loss: 0.1182\n",
      "Epoch   4 Batch  255/269 - Train Accuracy: 0.8959, Validation Accuracy: 0.8777, Loss: 0.1158\n",
      "Epoch   4 Batch  260/269 - Train Accuracy: 0.8558, Validation Accuracy: 0.8612, Loss: 0.1324\n",
      "Epoch   4 Batch  265/269 - Train Accuracy: 0.8688, Validation Accuracy: 0.8539, Loss: 0.1281\n",
      "Epoch   5 Batch    5/269 - Train Accuracy: 0.8636, Validation Accuracy: 0.8729, Loss: 0.1307\n",
      "Epoch   5 Batch   10/269 - Train Accuracy: 0.8834, Validation Accuracy: 0.8783, Loss: 0.1113\n"
     ]
    },
    {
     "name": "stdout",
     "output_type": "stream",
     "text": [
      "Epoch   5 Batch   15/269 - Train Accuracy: 0.8965, Validation Accuracy: 0.8832, Loss: 0.1011\n",
      "Epoch   5 Batch   20/269 - Train Accuracy: 0.8903, Validation Accuracy: 0.8841, Loss: 0.1100\n",
      "Epoch   5 Batch   25/269 - Train Accuracy: 0.9040, Validation Accuracy: 0.8854, Loss: 0.1154\n",
      "Epoch   5 Batch   30/269 - Train Accuracy: 0.9066, Validation Accuracy: 0.8858, Loss: 0.1028\n",
      "Epoch   5 Batch   35/269 - Train Accuracy: 0.8935, Validation Accuracy: 0.8894, Loss: 0.1201\n",
      "Epoch   5 Batch   40/269 - Train Accuracy: 0.8910, Validation Accuracy: 0.8952, Loss: 0.1084\n",
      "Epoch   5 Batch   45/269 - Train Accuracy: 0.8971, Validation Accuracy: 0.8889, Loss: 0.1019\n",
      "Epoch   5 Batch   50/269 - Train Accuracy: 0.8743, Validation Accuracy: 0.8887, Loss: 0.1236\n",
      "Epoch   5 Batch   55/269 - Train Accuracy: 0.8939, Validation Accuracy: 0.8857, Loss: 0.1035\n",
      "Epoch   5 Batch   60/269 - Train Accuracy: 0.9005, Validation Accuracy: 0.8913, Loss: 0.0983\n",
      "Epoch   5 Batch   65/269 - Train Accuracy: 0.8949, Validation Accuracy: 0.8846, Loss: 0.0927\n",
      "Epoch   5 Batch   70/269 - Train Accuracy: 0.9089, Validation Accuracy: 0.8953, Loss: 0.0948\n",
      "Epoch   5 Batch   75/269 - Train Accuracy: 0.9076, Validation Accuracy: 0.8957, Loss: 0.0993\n",
      "Epoch   5 Batch   80/269 - Train Accuracy: 0.9084, Validation Accuracy: 0.9109, Loss: 0.0952\n",
      "Epoch   5 Batch   85/269 - Train Accuracy: 0.8965, Validation Accuracy: 0.8774, Loss: 0.0897\n",
      "Epoch   5 Batch   90/269 - Train Accuracy: 0.9030, Validation Accuracy: 0.8923, Loss: 0.0928\n",
      "Epoch   5 Batch   95/269 - Train Accuracy: 0.9051, Validation Accuracy: 0.9038, Loss: 0.0841\n",
      "Epoch   5 Batch  100/269 - Train Accuracy: 0.9119, Validation Accuracy: 0.9035, Loss: 0.0909\n",
      "Epoch   5 Batch  105/269 - Train Accuracy: 0.9025, Validation Accuracy: 0.8918, Loss: 0.0915\n",
      "Epoch   5 Batch  110/269 - Train Accuracy: 0.8989, Validation Accuracy: 0.8973, Loss: 0.0815\n",
      "Epoch   5 Batch  115/269 - Train Accuracy: 0.9016, Validation Accuracy: 0.9038, Loss: 0.0917\n",
      "Epoch   5 Batch  120/269 - Train Accuracy: 0.9139, Validation Accuracy: 0.8990, Loss: 0.0864\n",
      "Epoch   5 Batch  125/269 - Train Accuracy: 0.9195, Validation Accuracy: 0.9006, Loss: 0.0797\n",
      "Epoch   5 Batch  130/269 - Train Accuracy: 0.9087, Validation Accuracy: 0.9131, Loss: 0.0839\n",
      "Epoch   5 Batch  135/269 - Train Accuracy: 0.9146, Validation Accuracy: 0.9016, Loss: 0.0849\n",
      "Epoch   5 Batch  140/269 - Train Accuracy: 0.9086, Validation Accuracy: 0.9040, Loss: 0.0906\n",
      "Epoch   5 Batch  145/269 - Train Accuracy: 0.9182, Validation Accuracy: 0.9134, Loss: 0.0784\n",
      "Epoch   5 Batch  150/269 - Train Accuracy: 0.9142, Validation Accuracy: 0.8962, Loss: 0.0818\n",
      "Epoch   5 Batch  155/269 - Train Accuracy: 0.9052, Validation Accuracy: 0.9089, Loss: 0.0783\n",
      "Epoch   5 Batch  160/269 - Train Accuracy: 0.9096, Validation Accuracy: 0.8997, Loss: 0.0785\n",
      "Epoch   5 Batch  165/269 - Train Accuracy: 0.8900, Validation Accuracy: 0.8871, Loss: 0.1198\n",
      "Epoch   5 Batch  170/269 - Train Accuracy: 0.9033, Validation Accuracy: 0.8938, Loss: 0.0882\n",
      "Epoch   5 Batch  175/269 - Train Accuracy: 0.8835, Validation Accuracy: 0.8823, Loss: 0.1090\n",
      "Epoch   5 Batch  180/269 - Train Accuracy: 0.9193, Validation Accuracy: 0.9071, Loss: 0.0860\n",
      "Epoch   5 Batch  185/269 - Train Accuracy: 0.9183, Validation Accuracy: 0.9027, Loss: 0.0812\n",
      "Epoch   5 Batch  190/269 - Train Accuracy: 0.9115, Validation Accuracy: 0.9053, Loss: 0.0782\n",
      "Epoch   5 Batch  195/269 - Train Accuracy: 0.9160, Validation Accuracy: 0.9102, Loss: 0.0757\n",
      "Epoch   5 Batch  200/269 - Train Accuracy: 0.9218, Validation Accuracy: 0.9016, Loss: 0.0771\n",
      "Epoch   5 Batch  205/269 - Train Accuracy: 0.9043, Validation Accuracy: 0.9042, Loss: 0.0764\n",
      "Epoch   5 Batch  210/269 - Train Accuracy: 0.9022, Validation Accuracy: 0.9079, Loss: 0.0685\n",
      "Epoch   5 Batch  215/269 - Train Accuracy: 0.9181, Validation Accuracy: 0.9157, Loss: 0.0692\n",
      "Epoch   5 Batch  220/269 - Train Accuracy: 0.9240, Validation Accuracy: 0.9116, Loss: 0.0654\n",
      "Epoch   5 Batch  225/269 - Train Accuracy: 0.8922, Validation Accuracy: 0.9045, Loss: 0.0691\n",
      "Epoch   5 Batch  230/269 - Train Accuracy: 0.9332, Validation Accuracy: 0.9093, Loss: 0.0659\n",
      "Epoch   5 Batch  235/269 - Train Accuracy: 0.9373, Validation Accuracy: 0.9133, Loss: 0.0588\n",
      "Epoch   5 Batch  240/269 - Train Accuracy: 0.9344, Validation Accuracy: 0.9114, Loss: 0.0610\n",
      "Epoch   5 Batch  245/269 - Train Accuracy: 0.9080, Validation Accuracy: 0.9226, Loss: 0.0673\n",
      "Epoch   5 Batch  250/269 - Train Accuracy: 0.9334, Validation Accuracy: 0.9233, Loss: 0.0595\n",
      "Epoch   5 Batch  255/269 - Train Accuracy: 0.9182, Validation Accuracy: 0.9236, Loss: 0.0626\n",
      "Epoch   5 Batch  260/269 - Train Accuracy: 0.9255, Validation Accuracy: 0.9194, Loss: 0.0765\n",
      "Epoch   5 Batch  265/269 - Train Accuracy: 0.9262, Validation Accuracy: 0.9227, Loss: 0.0636\n",
      "Model Trained and Saved\n"
     ]
    }
   ],
   "source": [
    "\"\"\"\n",
    "DON'T MODIFY ANYTHING IN THIS CELL\n",
    "\"\"\"\n",
    "def get_accuracy(target, logits):\n",
    "    \"\"\"\n",
    "    Calculate accuracy\n",
    "    \"\"\"\n",
    "    max_seq = max(target.shape[1], logits.shape[1])\n",
    "    if max_seq - target.shape[1]:\n",
    "        target = np.pad(\n",
    "            target,\n",
    "            [(0,0),(0,max_seq - target.shape[1])],\n",
    "            'constant')\n",
    "    if max_seq - logits.shape[1]:\n",
    "        logits = np.pad(\n",
    "            logits,\n",
    "            [(0,0),(0,max_seq - logits.shape[1])],\n",
    "            'constant')\n",
    "\n",
    "    return np.mean(np.equal(target, logits))\n",
    "\n",
    "# Split data to training and validation sets\n",
    "train_source = source_int_text[batch_size:]\n",
    "train_target = target_int_text[batch_size:]\n",
    "valid_source = source_int_text[:batch_size]\n",
    "valid_target = target_int_text[:batch_size]\n",
    "(valid_sources_batch, valid_targets_batch, valid_sources_lengths, valid_targets_lengths ) = next(get_batches(valid_source,\n",
    "                                                                                                             valid_target,\n",
    "                                                                                                             batch_size,\n",
    "                                                                                                             source_vocab_to_int['<PAD>'],\n",
    "                                                                                                             target_vocab_to_int['<PAD>']))                                                                                                  \n",
    "with tf.Session(graph=train_graph) as sess:\n",
    "    sess.run(tf.global_variables_initializer())\n",
    "\n",
    "    for epoch_i in range(epochs):\n",
    "        for batch_i, (source_batch, target_batch, sources_lengths, targets_lengths) in enumerate(\n",
    "                get_batches(train_source, train_target, batch_size,\n",
    "                            source_vocab_to_int['<PAD>'],\n",
    "                            target_vocab_to_int['<PAD>'])):\n",
    "\n",
    "            _, loss = sess.run(\n",
    "                [train_op, cost],\n",
    "                {input_data: source_batch,\n",
    "                 targets: target_batch,\n",
    "                 lr: learning_rate,\n",
    "                 target_sequence_length: targets_lengths,\n",
    "                 source_sequence_length: sources_lengths,\n",
    "                 keep_prob: keep_probability})\n",
    "\n",
    "\n",
    "            if batch_i % display_step == 0 and batch_i > 0:\n",
    "\n",
    "\n",
    "                batch_train_logits = sess.run(\n",
    "                    inference_logits,\n",
    "                    {input_data: source_batch,\n",
    "                     source_sequence_length: sources_lengths,\n",
    "                     target_sequence_length: targets_lengths,\n",
    "                     keep_prob: 1.0})\n",
    "\n",
    "\n",
    "                batch_valid_logits = sess.run(\n",
    "                    inference_logits,\n",
    "                    {input_data: valid_sources_batch,\n",
    "                     source_sequence_length: valid_sources_lengths,\n",
    "                     target_sequence_length: valid_targets_lengths,\n",
    "                     keep_prob: 1.0})\n",
    "\n",
    "                train_acc = get_accuracy(target_batch, batch_train_logits)\n",
    "\n",
    "                valid_acc = get_accuracy(valid_targets_batch, batch_valid_logits)\n",
    "\n",
    "                print('Epoch {:>3} Batch {:>4}/{} - Train Accuracy: {:>6.4f}, Validation Accuracy: {:>6.4f}, Loss: {:>6.4f}'\n",
    "                      .format(epoch_i, batch_i, len(source_int_text) // batch_size, train_acc, valid_acc, loss))\n",
    "\n",
    "    # Save Model\n",
    "    saver = tf.train.Saver()\n",
    "    saver.save(sess, save_path)\n",
    "    print('Model Trained and Saved')"
   ]
  },
  {
   "cell_type": "markdown",
   "metadata": {},
   "source": [
    "### Save Parameters\n",
    "Save the `batch_size` and `save_path` parameters for inference."
   ]
  },
  {
   "cell_type": "code",
   "execution_count": 32,
   "metadata": {
    "collapsed": true
   },
   "outputs": [],
   "source": [
    "\"\"\"\n",
    "DON'T MODIFY ANYTHING IN THIS CELL\n",
    "\"\"\"\n",
    "# Save parameters for checkpoint\n",
    "helper.save_params(save_path)"
   ]
  },
  {
   "cell_type": "markdown",
   "metadata": {},
   "source": [
    "# Checkpoint"
   ]
  },
  {
   "cell_type": "code",
   "execution_count": 33,
   "metadata": {
    "collapsed": true
   },
   "outputs": [],
   "source": [
    "\"\"\"\n",
    "DON'T MODIFY ANYTHING IN THIS CELL\n",
    "\"\"\"\n",
    "import tensorflow as tf\n",
    "import numpy as np\n",
    "import helper\n",
    "import problem_unittests as tests\n",
    "\n",
    "_, (source_vocab_to_int, target_vocab_to_int), (source_int_to_vocab, target_int_to_vocab) = helper.load_preprocess()\n",
    "load_path = helper.load_params()"
   ]
  },
  {
   "cell_type": "markdown",
   "metadata": {},
   "source": [
    "## Sentence to Sequence\n",
    "To feed a sentence into the model for translation, you first need to preprocess it.  Implement the function `sentence_to_seq()` to preprocess new sentences.\n",
    "\n",
    "- Convert the sentence to lowercase\n",
    "- Convert words into ids using `vocab_to_int`\n",
    " - Convert words not in the vocabulary, to the `<UNK>` word id."
   ]
  },
  {
   "cell_type": "code",
   "execution_count": 34,
   "metadata": {},
   "outputs": [
    {
     "name": "stdout",
     "output_type": "stream",
     "text": [
      "Tests Passed\n"
     ]
    }
   ],
   "source": [
    "def sentence_to_seq(sentence, vocab_to_int):\n",
    "    \"\"\"\n",
    "    Convert a sentence to a sequence of ids\n",
    "    :param sentence: String\n",
    "    :param vocab_to_int: Dictionary to go from the words to an id\n",
    "    :return: List of word ids\n",
    "    \"\"\"\n",
    "    s = sentence.lower()\n",
    "    default = vocab_to_int[\"<UNK>\"]\n",
    "    word_ids = [vocab_to_int.get(word, default) for word in s.split()]\n",
    "    return word_ids\n",
    "\n",
    "\n",
    "\"\"\"\n",
    "DON'T MODIFY ANYTHING IN THIS CELL THAT IS BELOW THIS LINE\n",
    "\"\"\"\n",
    "tests.test_sentence_to_seq(sentence_to_seq)"
   ]
  },
  {
   "cell_type": "markdown",
   "metadata": {},
   "source": [
    "## Translate\n",
    "This will translate `translate_sentence` from English to French."
   ]
  },
  {
   "cell_type": "code",
   "execution_count": 35,
   "metadata": {},
   "outputs": [
    {
     "name": "stdout",
     "output_type": "stream",
     "text": [
      "INFO:tensorflow:Restoring parameters from checkpoints/dev\n",
      "Input\n",
      "  Word Ids:      [208, 23, 118, 94, 30, 85, 43]\n",
      "  English Words: ['he', 'saw', 'a', 'old', 'yellow', 'truck', '.']\n",
      "\n",
      "Prediction\n",
      "  Word Ids:      [346, 357, 113, 254, 153, 183, 1]\n",
      "  French Words: il n'aime un camion jaune . <EOS>\n"
     ]
    }
   ],
   "source": [
    "translate_sentence = 'he saw a old yellow truck .'\n",
    "\n",
    "\n",
    "\"\"\"\n",
    "DON'T MODIFY ANYTHING IN THIS CELL\n",
    "\"\"\"\n",
    "translate_sentence = sentence_to_seq(translate_sentence, source_vocab_to_int)\n",
    "\n",
    "loaded_graph = tf.Graph()\n",
    "with tf.Session(graph=loaded_graph) as sess:\n",
    "    # Load saved model\n",
    "    loader = tf.train.import_meta_graph(load_path + '.meta')\n",
    "    loader.restore(sess, load_path)\n",
    "\n",
    "    input_data = loaded_graph.get_tensor_by_name('input:0')\n",
    "    logits = loaded_graph.get_tensor_by_name('predictions:0')\n",
    "    target_sequence_length = loaded_graph.get_tensor_by_name('target_sequence_length:0')\n",
    "    source_sequence_length = loaded_graph.get_tensor_by_name('source_sequence_length:0')\n",
    "    keep_prob = loaded_graph.get_tensor_by_name('keep_prob:0')\n",
    "\n",
    "    translate_logits = sess.run(logits, {input_data: [translate_sentence]*batch_size,\n",
    "                                         target_sequence_length: [len(translate_sentence)*2]*batch_size,\n",
    "                                         source_sequence_length: [len(translate_sentence)]*batch_size,\n",
    "                                         keep_prob: 1.0})[0]\n",
    "\n",
    "print('Input')\n",
    "print('  Word Ids:      {}'.format([i for i in translate_sentence]))\n",
    "print('  English Words: {}'.format([source_int_to_vocab[i] for i in translate_sentence]))\n",
    "\n",
    "print('\\nPrediction')\n",
    "print('  Word Ids:      {}'.format([i for i in translate_logits]))\n",
    "print('  French Words: {}'.format(\" \".join([target_int_to_vocab[i] for i in translate_logits])))\n"
   ]
  },
  {
   "cell_type": "markdown",
   "metadata": {},
   "source": [
    "## Imperfect Translation\n",
    "You might notice that some sentences translate better than others.  Since the dataset you're using only has a vocabulary of 227 English words of the thousands that you use, you're only going to see good results using these words.  For this project, you don't need a perfect translation. However, if you want to create a better translation model, you'll need better data.\n",
    "\n",
    "You can train on the [WMT10 French-English corpus](http://www.statmt.org/wmt10/training-giga-fren.tar).  This dataset has more vocabulary and richer in topics discussed.  However, this will take you days to train, so make sure you've a GPU and the neural network is performing well on dataset we provided.  Just make sure you play with the WMT10 corpus after you've submitted this project.\n",
    "## Submitting This Project\n",
    "When submitting this project, make sure to run all the cells before saving the notebook. Save the notebook file as \"dlnd_language_translation.ipynb\" and save it as a HTML file under \"File\" -> \"Download as\". Include the \"helper.py\" and \"problem_unittests.py\" files in your submission."
   ]
  },
  {
   "cell_type": "code",
   "execution_count": null,
   "metadata": {
    "collapsed": true
   },
   "outputs": [],
   "source": []
  }
 ],
 "metadata": {
  "anaconda-cloud": {},
  "kernelspec": {
   "display_name": "Python 3",
   "language": "python",
   "name": "python3"
  },
  "language_info": {
   "codemirror_mode": {
    "name": "ipython",
    "version": 3
   },
   "file_extension": ".py",
   "mimetype": "text/x-python",
   "name": "python",
   "nbconvert_exporter": "python",
   "pygments_lexer": "ipython3",
   "version": "3.5.3"
  }
 },
 "nbformat": 4,
 "nbformat_minor": 1
}
